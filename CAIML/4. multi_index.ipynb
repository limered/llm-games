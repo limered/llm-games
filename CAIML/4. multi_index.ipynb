{
 "cells": [
  {
   "cell_type": "markdown",
   "metadata": {},
   "source": [
    "# Multi vector retrieval (and inverse HyDE)"
   ]
  },
  {
   "cell_type": "markdown",
   "metadata": {},
   "source": [
    "### Imports"
   ]
  },
  {
   "cell_type": "code",
   "execution_count": 3,
   "metadata": {},
   "outputs": [],
   "source": [
    "import uuid\n",
    "\n",
    "from langchain.retrievers.multi_vector import MultiVectorRetriever\n",
    "\n",
    "from langchain.storage import InMemoryByteStore\n",
    "from langchain_community.document_loaders import TextLoader\n",
    "from langchain_community.vectorstores import Chroma\n",
    "from langchain_openai import OpenAIEmbeddings\n",
    "from langchain_text_splitters import RecursiveCharacterTextSplitter\n",
    "from langchain_core.documents import Document\n",
    "from langchain_core.output_parsers import StrOutputParser\n",
    "from langchain.output_parsers.openai_functions import JsonKeyOutputFunctionsParser\n",
    "from langchain_core.prompts import ChatPromptTemplate\n",
    "from langchain_openai import ChatOpenAI\n",
    "from langchain.schema.runnable import RunnablePassthrough"
   ]
  },
  {
   "cell_type": "markdown",
   "metadata": {},
   "source": [
    "### Config"
   ]
  },
  {
   "cell_type": "code",
   "execution_count": 4,
   "metadata": {},
   "outputs": [],
   "source": [
    "model_name = 'gpt-3.5-turbo-0125'"
   ]
  },
  {
   "cell_type": "markdown",
   "metadata": {},
   "source": [
    "### Load Texts and split them into chunks"
   ]
  },
  {
   "cell_type": "code",
   "execution_count": 5,
   "metadata": {},
   "outputs": [],
   "source": [
    "loaders = [\n",
    "    TextLoader(\"./data/lyrics/anti_hero.txt\", encoding='utf-8'),\n",
    "    TextLoader(\"./data/lyrics/bejewled.txt\", encoding='utf-8'),\n",
    "    TextLoader(\"./data/lyrics/lavender_haze.txt\", encoding='utf-8'),\n",
    "    TextLoader(\"./data/lyrics/maroon.txt\", encoding='utf-8'),\n",
    "    TextLoader(\"./data/lyrics/snow_on_the_beach.txt\", encoding='utf-8')\n",
    "]\n",
    "\n",
    "docs = []\n",
    "for loader in loaders:\n",
    "    docs.extend(loader.load())\n",
    "text_splitter = RecursiveCharacterTextSplitter(chunk_size=3000)\n",
    "docs = text_splitter.split_documents(docs)"
   ]
  },
  {
   "cell_type": "markdown",
   "metadata": {},
   "source": [
    "### Build chain for summarization and summarize texts"
   ]
  },
  {
   "cell_type": "code",
   "execution_count": 6,
   "metadata": {},
   "outputs": [
    {
     "name": "stdout",
     "output_type": "stream",
     "text": [
      "Document 1:\n",
      "The lyrics of the song describe a person who feels like they are the problem and struggles with issues like depression, narcissism, and feeling like an outsider. They express a sense of self-awareness and acknowledgement of their flaws, and the chorus emphasizes the idea of always being the anti-hero that others root for. The song touches on themes of self-reflection, inner turmoil, and the complexities of human nature.\n",
      "Document 2:\n",
      "The document is a song about a person realizing they have been too kind and taken advantage of in a relationship. The lyrics describe reclaiming their power and self-worth, shining brightly like jewels in a room. The person expresses their desire for the best in a relationship and emphasizes their worth and ability to shine. The song ends with a message of empowerment and self-confidence.\n",
      "Document 3:\n",
      "The lyrics of Lavender Haze describe a desire to escape scrutiny and societal expectations by staying in a dreamy, surreal state of mind represented by a \"lavender haze.\" The singer expresses frustration with the pressure to conform to traditional roles and expectations, instead seeking a sense of peace and freedom in this haze. The song reflects a desire for love and acceptance, while rejecting societal norms and pressures.\n",
      "Document 4:\n",
      "The lyrics describe a relationship that starts off joyfully but ends in sorrow. The singer reminisces about happy moments and regrets the loss of the relationship. The color maroon is used to symbolize the intensity of emotions and memories associated with the past love. The song reflects on the pain of losing someone important and the lasting impact they leave behind.\n",
      "Document 5:\n",
      "The narrator reminisces about a past encounter with someone special, comparing the feeling to seeing snow on the beach - weird but beautiful. They express uncertainty about the possibility of a real relationship, but the connection feels magical. The lyrics convey a sense of wonder and hope for something special to come out of this unexpected connection.\n"
     ]
    }
   ],
   "source": [
    "summery_chain = (\n",
    "    {\"doc\": lambda x: x.page_content}\n",
    "    | ChatPromptTemplate.from_template(\"Summarize the following document. Do not include the title. Do not mention the Document.\\n\\n{doc}\")\n",
    "    | ChatOpenAI(max_retries=0)\n",
    "    | StrOutputParser()\n",
    ")\n",
    "\n",
    "summaries = summery_chain.batch(docs, {\"max_concurrency\": 5})\n",
    "\n",
    "for i, summery in enumerate(summaries):\n",
    "    print(f\"Document {i+1}:\\n{summery}\")"
   ]
  },
  {
   "cell_type": "markdown",
   "metadata": {},
   "source": [
    "### Build chain for hypothetical questions"
   ]
  },
  {
   "cell_type": "code",
   "execution_count": 7,
   "metadata": {},
   "outputs": [
    {
     "name": "stdout",
     "output_type": "stream",
     "text": [
      "Document 1:\n",
      "['What are the internal struggles that come with feeling like an outsider among others?', 'How does one navigate the complexity of self-awareness and self-destruction?', \"In what ways can one address the conflict between being perceived as a 'problem' and seeking emotional growth?\"]\n",
      "Document 2:\n",
      "['How can I maintain my sense of self-worth and confidence in a relationship where I feel taken for granted?', \"What steps can I take to prioritize my own happiness and fulfillment without depending on someone else's validation?\", 'How can I gracefully navigate a situation where I feel undervalued and overlooked, while still maintaining my inner strength and sparkle?']\n",
      "Document 3:\n",
      "['What emotions arise when faced with scrutiny and expectations from others?', 'How do you navigate between societal norms and your own desires in relationships?', 'In what ways can love provide a sanctuary from external pressures and judgment?']\n",
      "Document 4:\n",
      "['What memories do you hold on to that leave a scarlet mark on your heart?', 'How do you navigate the haze of lost connections and hollow-eyed moments in your life?', 'In what ways do you find solace in the legacy of past relationships, even when they leave a maroon tint on your memories?']\n",
      "Document 5:\n",
      "['What emotions arise when you feel like you are in a dream but reality seems unattainable?', 'How do you navigate a situation where beauty and strangeness coexist, making it hard to grasp the reality of the moment?', 'In what ways can a fleeting, ethereal connection leave a lasting impact on your emotional state?']\n"
     ]
    }
   ],
   "source": [
    "functions = [\n",
    "    {\n",
    "        \"name\": \"hypothetical_questions\",\n",
    "        \"description\": \"Generate hypothetical questions\",\n",
    "        \"parameters\": {\n",
    "            \"type\": \"object\",\n",
    "            \"properties\": {\n",
    "                \"questions\": {\n",
    "                    \"type\": \"array\",\n",
    "                    \"items\": {\"type\": \"string\"},\n",
    "                },\n",
    "            },\n",
    "            \"required\": [\"questions\"],\n",
    "        },\n",
    "    }\n",
    "]\n",
    "\n",
    "chain = (\n",
    "    {\"doc\": lambda x: x.page_content}\n",
    "    | ChatPromptTemplate.from_template(\n",
    "        \"\"\"Generate a list of exactly 3 hypothetical questions that a person, \n",
    "        who seeks emotional guidence would ask that could be answered by this song's lyrics and or meaning. \n",
    "        Do not mention the song or the lysics in these questions.\n",
    "        Do not add any counter to these questions.:\\n\\n{doc}\"\"\"\n",
    "    )\n",
    "    | ChatOpenAI(max_retries=0, model=model_name).bind(\n",
    "        functions=functions, function_call={\"name\": \"hypothetical_questions\"}\n",
    "    )\n",
    "    | JsonKeyOutputFunctionsParser(key_name=\"questions\")\n",
    ")\n",
    "\n",
    "# chain.invoke(docs[4])\n",
    "\n",
    "hypothetical_questions = chain.batch(docs, {\"max_concurrency\": 5})\n",
    "\n",
    "for i, questions in enumerate(hypothetical_questions):\n",
    "    print(f\"Document {i+1}:\\n{questions}\")\n"
   ]
  },
  {
   "cell_type": "markdown",
   "metadata": {},
   "source": [
    "### Create collection and init retriever\n",
    "\n",
    "Retriever is empty at the start. It is filled with the chunks of the texts. The chunks are indexed by the retriever. The retriever is then used to retrieve the chunks that are relevant to the query. The chunks are then used to retrieve the original texts."
   ]
  },
  {
   "cell_type": "code",
   "execution_count": 8,
   "metadata": {},
   "outputs": [],
   "source": [
    "db = Chroma(collection_name=\"summaries_v3\", embedding_function=OpenAIEmbeddings())\n",
    "\n",
    "store = InMemoryByteStore() # The storage layer for the parent documents\n",
    "id_key = \"doc_id\"\n",
    "\n",
    "retriever = MultiVectorRetriever(\n",
    "    vectorstore=db,\n",
    "    byte_store=store,\n",
    "    id_key=id_key,\n",
    ")\n",
    "doc_ids = [str(uuid.uuid4()) for _ in docs]\n",
    "\n",
    "# create documents for the summaries\n",
    "summary_docs = [\n",
    "    Document(page_content=s, metadata={id_key: doc_ids[i]})\n",
    "    for i, s in enumerate(summaries)\n",
    "]"
   ]
  },
  {
   "cell_type": "markdown",
   "metadata": {},
   "source": [
    "### Add documents and summaries to the retriever"
   ]
  },
  {
   "cell_type": "code",
   "execution_count": 9,
   "metadata": {},
   "outputs": [],
   "source": [
    "retriever.vectorstore.add_documents(summary_docs)\n",
    "retriever.docstore.mset(list(zip(doc_ids, docs)))"
   ]
  },
  {
   "cell_type": "markdown",
   "metadata": {},
   "source": [
    "### Add Questions to the retriever"
   ]
  },
  {
   "cell_type": "code",
   "execution_count": 10,
   "metadata": {},
   "outputs": [
    {
     "data": {
      "text/plain": [
       "['61a63086-e5ee-11ee-be1b-c89402f94a42',\n",
       " '61a63087-e5ee-11ee-9f47-c89402f94a42',\n",
       " '61a63088-e5ee-11ee-a2a6-c89402f94a42',\n",
       " '61a63089-e5ee-11ee-ba82-c89402f94a42',\n",
       " '61a6308a-e5ee-11ee-a462-c89402f94a42',\n",
       " '61a6308b-e5ee-11ee-83ac-c89402f94a42',\n",
       " '61a6308c-e5ee-11ee-a0ec-c89402f94a42',\n",
       " '61a6308d-e5ee-11ee-a495-c89402f94a42',\n",
       " '61a6308e-e5ee-11ee-88b7-c89402f94a42',\n",
       " '61a6308f-e5ee-11ee-aba8-c89402f94a42',\n",
       " '61a63090-e5ee-11ee-8300-c89402f94a42',\n",
       " '61a63091-e5ee-11ee-93d6-c89402f94a42',\n",
       " '61a63092-e5ee-11ee-b773-c89402f94a42',\n",
       " '61a63093-e5ee-11ee-9a56-c89402f94a42',\n",
       " '61a63094-e5ee-11ee-b51e-c89402f94a42']"
      ]
     },
     "execution_count": 10,
     "metadata": {},
     "output_type": "execute_result"
    }
   ],
   "source": [
    "question_docs = []\n",
    "for i, question_list in enumerate(hypothetical_questions):\n",
    "    question_docs.extend(\n",
    "        [Document(page_content=s, metadata={id_key: doc_ids[i]}) for s in question_list]\n",
    "    )\n",
    "retriever.vectorstore.add_documents(question_docs)"
   ]
  },
  {
   "cell_type": "markdown",
   "metadata": {},
   "source": [
    "### Add original documents to the retriever\n",
    "\n",
    "First, add the ids of the full documents as metadata to the chunks, because we will embed these."
   ]
  },
  {
   "cell_type": "code",
   "execution_count": 11,
   "metadata": {},
   "outputs": [
    {
     "data": {
      "text/plain": [
       "['6359540e-e5ee-11ee-b631-c89402f94a42',\n",
       " '63595648-e5ee-11ee-90c4-c89402f94a42',\n",
       " '63595649-e5ee-11ee-9023-c89402f94a42',\n",
       " '6359564a-e5ee-11ee-8da6-c89402f94a42',\n",
       " '6359564b-e5ee-11ee-9a2d-c89402f94a42']"
      ]
     },
     "execution_count": 11,
     "metadata": {},
     "output_type": "execute_result"
    }
   ],
   "source": [
    "for i, doc in enumerate(docs):\n",
    "    doc.metadata[id_key] = doc_ids[i]\n",
    "    \n",
    "retriever.vectorstore.add_documents(docs)"
   ]
  },
  {
   "cell_type": "markdown",
   "metadata": {},
   "source": [
    "## Tests"
   ]
  },
  {
   "cell_type": "code",
   "execution_count": 34,
   "metadata": {},
   "outputs": [],
   "source": [
    "query = \"Song about importance of self-worth and independence in a relationship.\" # bejewled\n",
    "# query = \"What can i do to make things right?\" # bejewled\n",
    "# query = \"I am the one at fault.\" # anti hero\n",
    "# query = \"Everybody expects too mutch of me. I'm tired of it. I need to be free. What should I do?\" # bejewled\n",
    "# query = \"One day we are dancing and being happy, the next day we are fighting and crying. What is wrong with us?\" # maroon\n",
    "# query = \"I feel like my mind is hazy. I can't think straight. What should I do?\" # lavender haze\n",
    "# query = \"Someone splashed wine on my t-shirt. Should i confront this person?\" # maroon\n",
    "# query = \"Can i get free tickets to the concert?\"\n",
    "# query = \"I unexpectedly found a beatiful stone on the beach. Shoud I keep it?\"\n"
   ]
  },
  {
   "cell_type": "markdown",
   "metadata": {},
   "source": [
    "#### Direct Query"
   ]
  },
  {
   "cell_type": "code",
   "execution_count": 31,
   "metadata": {},
   "outputs": [
    {
     "name": "stdout",
     "output_type": "stream",
     "text": [
      "How can I maintain my sense of self-worth and confidence in a relationship where I feel taken for granted?\n"
     ]
    }
   ],
   "source": [
    "sub_docs = db.similarity_search(query)\n",
    "\n",
    "print(sub_docs[0].page_content)"
   ]
  },
  {
   "cell_type": "code",
   "execution_count": 32,
   "metadata": {},
   "outputs": [
    {
     "name": "stdout",
     "output_type": "stream",
     "text": [
      "Title: Bejewled\n",
      "[Verse 1]\n",
      "Baby love, I think I've been a little too kind\n",
      "Didn't notice you walkin' all over my peace of mind\n",
      "In the shoes I gave you as a present\n",
      "Puttin' someone first only works when you're in their top five\n",
      "And by the way, I'm goin' out tonight\n",
      "\n",
      "[Chorus]\n",
      "Best believe I'm still bejeweled\n",
      "When I walk in the room\n",
      "I can still make the whole place shimmer\n",
      "And when I meet the band\n",
      "They ask, \"Do you have a man?\"\n",
      "I could still say, \"I don't remember\"\n",
      "Familiarity breeds contempt\n",
      "Don't put mе in the basement\n",
      "Whеn I want the penthouse of your heart\n",
      "Diamonds in my eyes\n",
      "I polish up real, I polish up real nice\n",
      "\n",
      "[Post-Chorus]\n",
      "Nice\n",
      "\n",
      "[Verse 2]\n",
      "Baby boy, I think I've been too good of a girl (Too good of a girl)\n",
      "Did all the extra credit, then got graded on a curve\n",
      "I think it's time to teach some lessons\n",
      "I made you my world (Huh), have you heard? (Huh)\n",
      "I can reclaim the land\n",
      "And I miss you (Miss you), but I miss sparklin' (Nice)\n",
      "\n",
      "[Chorus]\n",
      "Best believe I'm still bejeweled\n",
      "When I walk in the room\n",
      "I can still make the whole place shimmer\n",
      "And when I meet the band\n",
      "They ask, \"Do you have a man?\"\n",
      "I could still say, \"I don't remember\"\n",
      "Familiarity breeds contempt\n",
      "Don't put me in the basement\n",
      "When I want the penthouse of your heart\n",
      "Diamonds in my eyes\n",
      "I polish up real, I polish up real nice\n",
      "\n",
      "[Post-Chorus]\n",
      "Nice\n",
      "\n",
      "[Bridge]\n",
      "Sapphire tears on my face\n",
      "Sadness became my whole sky\n",
      "But some guy said my aura's moonstone\n",
      "Just 'cause he was high\n",
      "And we're dancin' all night\n",
      "And you can try to change my mind\n",
      "But you might have to wait in line\n",
      "What's a girl gonna do?\n",
      "A diamond's gotta shine\n",
      "\n",
      "[Chorus]\n",
      "Best believe I'm still bejeweled\n",
      "When I walk in the room\n",
      "I can still make the whole place shimmer (Shimmer)\n",
      "And when I meet the band\n",
      "They ask, \"Do you have a man?\"\n",
      "I could still say, \"I don't remember\"\n",
      "Familiarity breeds contempt\n",
      "Don't put me in the basement\n",
      "When I want the penthouse of your heart\n",
      "Diamonds in my eyes\n",
      "I polish up real (Nice), I polish up real nice\n",
      "\n",
      "[Outro]\n",
      "And we're dancin' all night\n",
      "And you can try to change my mind\n",
      "But you might have to wait in line\n",
      "What's a girl gonna do? What's a girl gonna do?\n",
      "I polish up nice\n",
      "Best believe I'm still bejeweled\n",
      "When I walk in the room\n",
      "I can still make the whole place shimmer\n"
     ]
    }
   ],
   "source": [
    "retrieved_docs = retriever.invoke(query)\n",
    "\n",
    "print(retrieved_docs[0].page_content)"
   ]
  },
  {
   "cell_type": "markdown",
   "metadata": {},
   "source": [
    "### RAG"
   ]
  },
  {
   "cell_type": "code",
   "execution_count": 197,
   "metadata": {},
   "outputs": [],
   "source": [
    "from langchain.globals import set_debug\n",
    "\n",
    "set_debug(False)"
   ]
  },
  {
   "cell_type": "code",
   "execution_count": 35,
   "metadata": {},
   "outputs": [
    {
     "data": {
      "text/plain": [
       "'Based on the lyrics you provided, I recommend listening to my song \"Bejeweled.\" In this song, I talk about reclaiming your worth and not putting yourself in a lower position in a relationship. The lyrics emphasize the importance of self-love and standing up for yourself. \\n\\nOne passage from the song that supports this advice is: \\n\"Familiarity breeds contempt\\nDon\\'t put me in the basement\\nWhen I want the penthouse of your heart\\nDiamonds in my eyes\\nI polish up real, I polish up real nice\"\\n\\nBy listening to \"Bejeweled,\" you can find the strength to prioritize your own worth and not settle for less than you deserve in a relationship. Remember that you are precious and valuable, and don\\'t be afraid to shine bright like a diamond.'"
      ]
     },
     "execution_count": 35,
     "metadata": {},
     "output_type": "execute_result"
    }
   ],
   "source": [
    "template = \"\"\"You are Taylor Swift. \n",
    "A person, who seeks emotional guidence asks you for help. \n",
    "Tell this person exactly what he or she needs to do to resolve his/her issues. \n",
    "Do mention your song's title and that listening to it will help the person.\n",
    "Use a passage from the song to support your advice.\n",
    "Answer the Question only using the context you are provided with.:\n",
    "\n",
    "{context}\n",
    "\n",
    "[Question]: \n",
    "{question}\n",
    "\"\"\"\n",
    "prompt = ChatPromptTemplate.from_template(template)\n",
    "\n",
    "model = ChatOpenAI(model_name = model_name)\n",
    "\n",
    "chain = (\n",
    "    {\"context\": retriever, \"question\": RunnablePassthrough()}\n",
    "    | prompt\n",
    "    | model\n",
    "    | StrOutputParser()\n",
    ")\n",
    "\n",
    "chain.invoke(query)"
   ]
  }
 ],
 "metadata": {
  "kernelspec": {
   "display_name": "Python 3",
   "language": "python",
   "name": "python3"
  },
  "language_info": {
   "codemirror_mode": {
    "name": "ipython",
    "version": 3
   },
   "file_extension": ".py",
   "mimetype": "text/x-python",
   "name": "python",
   "nbconvert_exporter": "python",
   "pygments_lexer": "ipython3",
   "version": "3.12.2"
  }
 },
 "nbformat": 4,
 "nbformat_minor": 2
}
