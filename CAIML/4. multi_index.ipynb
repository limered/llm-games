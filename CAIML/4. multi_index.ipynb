{
 "cells": [
  {
   "cell_type": "markdown",
   "metadata": {},
   "source": [
    "# Multi vector retrieval (and inverse HyDE)"
   ]
  },
  {
   "cell_type": "markdown",
   "metadata": {},
   "source": [
    "### Imports"
   ]
  },
  {
   "cell_type": "code",
   "execution_count": 135,
   "metadata": {},
   "outputs": [],
   "source": [
    "import uuid\n",
    "\n",
    "from langchain.retrievers.multi_vector import MultiVectorRetriever\n",
    "\n",
    "from langchain.storage import InMemoryByteStore\n",
    "from langchain_community.document_loaders import TextLoader\n",
    "from langchain_community.vectorstores import Chroma\n",
    "from langchain_openai import OpenAIEmbeddings\n",
    "from langchain_text_splitters import RecursiveCharacterTextSplitter\n",
    "from langchain_core.documents import Document\n",
    "from langchain_core.output_parsers import StrOutputParser\n",
    "from langchain.output_parsers.openai_functions import JsonKeyOutputFunctionsParser\n",
    "from langchain_core.prompts import ChatPromptTemplate\n",
    "from langchain_openai import ChatOpenAI\n",
    "from langchain.schema.runnable import RunnablePassthrough"
   ]
  },
  {
   "cell_type": "markdown",
   "metadata": {},
   "source": [
    "### Config"
   ]
  },
  {
   "cell_type": "code",
   "execution_count": 136,
   "metadata": {},
   "outputs": [],
   "source": [
    "model_name = 'gpt-3.5-turbo-0125'"
   ]
  },
  {
   "cell_type": "markdown",
   "metadata": {},
   "source": [
    "### Load Texts and split them into chunks"
   ]
  },
  {
   "cell_type": "code",
   "execution_count": 153,
   "metadata": {},
   "outputs": [],
   "source": [
    "loaders = [\n",
    "    TextLoader(\"./data/lyrics/anti_hero.txt\", encoding='utf-8'),\n",
    "    TextLoader(\"./data/lyrics/bejewled.txt\", encoding='utf-8'),\n",
    "    TextLoader(\"./data/lyrics/lavender_haze.txt\", encoding='utf-8'),\n",
    "    TextLoader(\"./data/lyrics/maroon.txt\", encoding='utf-8'),\n",
    "    TextLoader(\"./data/lyrics/snow_on_the_beach.txt\", encoding='utf-8')\n",
    "]\n",
    "\n",
    "docs = []\n",
    "for loader in loaders:\n",
    "    docs.extend(loader.load())\n",
    "text_splitter = RecursiveCharacterTextSplitter(chunk_size=3000)\n",
    "docs = text_splitter.split_documents(docs)"
   ]
  },
  {
   "cell_type": "markdown",
   "metadata": {},
   "source": [
    "### Build chain for summarization and summarize texts"
   ]
  },
  {
   "cell_type": "code",
   "execution_count": 154,
   "metadata": {},
   "outputs": [
    {
     "name": "stdout",
     "output_type": "stream",
     "text": [
      "Document 1:\n",
      "The document describes feelings of inadequacy, self-awareness of one's faults, and a sense of being an outsider. The speaker struggles with depression, narcissism, and the fear of being abandoned. The lyrics also touch on themes of family dynamics and the fear of being seen as a villain. The overall tone is introspective and self-critical.\n",
      "Document 2:\n",
      "The lyrics of the song talk about a girl who feels like she has been too kind and taken for granted in a relationship. She wants to reclaim her power and shine like a diamond. The chorus emphasizes her confidence and ability to make a room shimmer. The bridge mentions feeling sad but being told her aura is like moonstone, symbolizing hope. The song ends with the girl asserting her worth and determination to shine despite challenges.\n",
      "Document 3:\n",
      "The lyrics of the song describe feelings of being misunderstood and under scrutiny, with a desire to stay in a peaceful and dreamy state represented by the \"lavender haze.\" The singer rejects societal expectations and pressures, focusing instead on their own happiness and love. The song emphasizes the importance of staying true to oneself and ignoring outside judgment.\n",
      "Document 4:\n",
      "The song describes a relationship that started with laughter and happiness but ended in sadness and tears. The lyrics mention the color burgundy, symbolizing the intensity of emotions and memories shared between the two people. The chorus repeats the imagery of the burgundy t-shirt, wine splashing, and blood rushing into cheeks, emphasizing the deep impact of the relationship. The song ends with a reflection on the legacy of memories left behind.\n",
      "Document 5:\n",
      "The lyrics of the song describe a surreal and beautiful moment, comparing it to snow on the beach. The narrator reflects on their emotions and experiences, including feeling unglued and emotionally abused, but also finding happiness and beauty in unexpected places. The song expresses a sense of wonder and possibility, as well as a fear of jinxing or losing the moment. It ends with a repeated refrain of \"like snow on the beach,\" emphasizing the dream-like and magical quality of the experience.\n"
     ]
    }
   ],
   "source": [
    "summery_chain = (\n",
    "    {\"doc\": lambda x: x.page_content}\n",
    "    | ChatPromptTemplate.from_template(\"Summarize the following document. Do not include the title. Do not mention the Document.\\n\\n{doc}\")\n",
    "    | ChatOpenAI(max_retries=0)\n",
    "    | StrOutputParser()\n",
    ")\n",
    "\n",
    "summaries = summery_chain.batch(docs, {\"max_concurrency\": 5})\n",
    "\n",
    "for i, summery in enumerate(summaries):\n",
    "    print(f\"Document {i+1}:\\n{summery}\")"
   ]
  },
  {
   "cell_type": "markdown",
   "metadata": {},
   "source": [
    "### Build chain for hypothetical questions"
   ]
  },
  {
   "cell_type": "code",
   "execution_count": 156,
   "metadata": {},
   "outputs": [
    {
     "name": "stdout",
     "output_type": "stream",
     "text": [
      "Document 1:\n",
      "['What does it feel like to grapple with self-destructive tendencies while seeking approval from others?', 'How does it impact relationships when one struggles with their own identity and self-worth?', \"Can you relate to the internal conflict of being perceived as the 'anti-hero' in your own story?\"]\n",
      "Document 2:\n",
      "['How can I maintain my sense of self-worth and confidence when I feel like others are taking advantage of me?', 'What steps can I take to set boundaries and prioritize my own happiness in relationships?', 'How can I embrace my own uniqueness and shine bright without seeking validation from others?']\n",
      "Document 3:\n",
      "['What do you do when you feel like people are constantly scrutinizing you and your choices?', 'Have you ever felt pressured to fit into societal expectations regarding relationships and marriage?', 'How do you navigate the feeling of wanting to escape from judgment and criticism in order to find peace and clarity in your own thoughts?']\n",
      "Document 4:\n",
      "[\"What emotions can be evoked by a simple act of splashing wine on someone's t-shirt?\", 'How does the color maroon symbolize a deep connection or loss in a relationship?', \"In what ways can memories become a lasting legacy that defines a person's existence?\"]\n",
      "Document 5:\n",
      "['What does it feel like when unexpected beauty enters your life?', 'How do you navigate emotions that seem impossible to comprehend?', 'Have you ever experienced a moment that felt both strange and beautiful at the same time?']\n"
     ]
    }
   ],
   "source": [
    "functions = [\n",
    "    {\n",
    "        \"name\": \"hypothetical_questions\",\n",
    "        \"description\": \"Generate hypothetical questions\",\n",
    "        \"parameters\": {\n",
    "            \"type\": \"object\",\n",
    "            \"properties\": {\n",
    "                \"questions\": {\n",
    "                    \"type\": \"array\",\n",
    "                    \"items\": {\"type\": \"string\"},\n",
    "                },\n",
    "            },\n",
    "            \"required\": [\"questions\"],\n",
    "        },\n",
    "    }\n",
    "]\n",
    "\n",
    "chain = (\n",
    "    {\"doc\": lambda x: x.page_content}\n",
    "    | ChatPromptTemplate.from_template(\n",
    "        \"\"\"Generate a list of exactly 3 hypothetical questions that a person, \n",
    "        who seeks emotional guidence would ask that could be answered by this song's lyrics and or meaning. \n",
    "        Do not mention the song or the lysics in these questions.\n",
    "        Do not add any counter to these questions.:\\n\\n{doc}\"\"\"\n",
    "    )\n",
    "    | ChatOpenAI(max_retries=0, model=model_name).bind(\n",
    "        functions=functions, function_call={\"name\": \"hypothetical_questions\"}\n",
    "    )\n",
    "    | JsonKeyOutputFunctionsParser(key_name=\"questions\")\n",
    ")\n",
    "\n",
    "# chain.invoke(docs[4])\n",
    "\n",
    "hypothetical_questions = chain.batch(docs, {\"max_concurrency\": 5})\n",
    "\n",
    "for i, questions in enumerate(hypothetical_questions):\n",
    "    print(f\"Document {i+1}:\\n{questions}\")\n"
   ]
  },
  {
   "cell_type": "markdown",
   "metadata": {},
   "source": [
    "### Create collection and init retriever\n",
    "\n",
    "Retriever is empty at the start. It is filled with the chunks of the texts. The chunks are indexed by the retriever. The retriever is then used to retrieve the chunks that are relevant to the query. The chunks are then used to retrieve the original texts."
   ]
  },
  {
   "cell_type": "code",
   "execution_count": 157,
   "metadata": {},
   "outputs": [],
   "source": [
    "db = Chroma(collection_name=\"summaries_v2\", embedding_function=OpenAIEmbeddings())\n",
    "\n",
    "store = InMemoryByteStore() # The storage layer for the parent documents\n",
    "id_key = \"doc_id\"\n",
    "\n",
    "retriever = MultiVectorRetriever(\n",
    "    vectorstore=db,\n",
    "    byte_store=store,\n",
    "    id_key=id_key,\n",
    ")\n",
    "doc_ids = [str(uuid.uuid4()) for _ in docs]\n",
    "\n",
    "# create documents for the summaries\n",
    "summary_docs = [\n",
    "    Document(page_content=s, metadata={id_key: doc_ids[i]})\n",
    "    for i, s in enumerate(summaries)\n",
    "]"
   ]
  },
  {
   "cell_type": "markdown",
   "metadata": {},
   "source": [
    "### Add documents and summaries to the retriever"
   ]
  },
  {
   "cell_type": "code",
   "execution_count": 158,
   "metadata": {},
   "outputs": [],
   "source": [
    "retriever.vectorstore.add_documents(summary_docs)\n",
    "retriever.docstore.mset(list(zip(doc_ids, docs)))"
   ]
  },
  {
   "cell_type": "markdown",
   "metadata": {},
   "source": [
    "### Add Questions to the retriever"
   ]
  },
  {
   "cell_type": "code",
   "execution_count": 159,
   "metadata": {},
   "outputs": [
    {
     "data": {
      "text/plain": [
       "['8705074d-e315-11ee-b307-c89402f94a42',\n",
       " '8705074e-e315-11ee-b252-c89402f94a42',\n",
       " '8705074f-e315-11ee-89b1-c89402f94a42',\n",
       " '87050750-e315-11ee-9d32-c89402f94a42',\n",
       " '87050751-e315-11ee-97a0-c89402f94a42',\n",
       " '87050752-e315-11ee-98b0-c89402f94a42',\n",
       " '87050753-e315-11ee-98f1-c89402f94a42',\n",
       " '87050754-e315-11ee-ba22-c89402f94a42',\n",
       " '87050755-e315-11ee-9731-c89402f94a42',\n",
       " '87050756-e315-11ee-a3c2-c89402f94a42',\n",
       " '87050757-e315-11ee-8174-c89402f94a42',\n",
       " '87050758-e315-11ee-a3a6-c89402f94a42',\n",
       " '87050759-e315-11ee-b98f-c89402f94a42',\n",
       " '8705075a-e315-11ee-81a9-c89402f94a42',\n",
       " '8705075b-e315-11ee-b888-c89402f94a42']"
      ]
     },
     "execution_count": 159,
     "metadata": {},
     "output_type": "execute_result"
    }
   ],
   "source": [
    "question_docs = []\n",
    "for i, question_list in enumerate(hypothetical_questions):\n",
    "    question_docs.extend(\n",
    "        [Document(page_content=s, metadata={id_key: doc_ids[i]}) for s in question_list]\n",
    "    )\n",
    "retriever.vectorstore.add_documents(question_docs)"
   ]
  },
  {
   "cell_type": "markdown",
   "metadata": {},
   "source": [
    "### Add original documents to the retriever\n",
    "\n",
    "First, add the ids of the full documents as metadata to the chunks, because we will embed these."
   ]
  },
  {
   "cell_type": "code",
   "execution_count": 160,
   "metadata": {},
   "outputs": [
    {
     "data": {
      "text/plain": [
       "['88fcf9cc-e315-11ee-b9db-c89402f94a42',\n",
       " '88fcf9cd-e315-11ee-8c9e-c89402f94a42',\n",
       " '88fcf9ce-e315-11ee-9d98-c89402f94a42',\n",
       " '88fcf9cf-e315-11ee-ac33-c89402f94a42',\n",
       " '88fcf9d0-e315-11ee-8db3-c89402f94a42']"
      ]
     },
     "execution_count": 160,
     "metadata": {},
     "output_type": "execute_result"
    }
   ],
   "source": [
    "for i, doc in enumerate(docs):\n",
    "    doc.metadata[id_key] = doc_ids[i]\n",
    "    \n",
    "retriever.vectorstore.add_documents(docs)"
   ]
  },
  {
   "cell_type": "markdown",
   "metadata": {},
   "source": [
    "## Tests"
   ]
  },
  {
   "cell_type": "code",
   "execution_count": 217,
   "metadata": {},
   "outputs": [],
   "source": [
    "query = \"Song about importance of self-worth and independence in a relationship.\" # bejewled\n",
    "# query = \"What can i do to make things right?\" # bejewled\n",
    "# query = \"I am the one at fault.\" # anti hero\n",
    "# query = \"Everybody expects too mutch of me. I'm tired of it. I need to be free. What should I do?\" # bejewled\n",
    "# query = \"One day we are dancing and being happy, the next day we are fighting and crying. What is wrong with us?\" # maroon\n",
    "# query = \"I feel like my mind is hazy. I can't think straight. What should I do?\" # lavender haze\n",
    "# query = \"Someone splashed wine on my t-shirt. Should i confront this person?\" # maroon\n",
    "# query = \"Can i get free tickets to the concert?\"\n",
    "# query = \"I unexpectedly found a beatiful stone on the beach. Shoud I keep it?\"\n"
   ]
  },
  {
   "cell_type": "markdown",
   "metadata": {},
   "source": [
    "#### Direct Query"
   ]
  },
  {
   "cell_type": "code",
   "execution_count": 218,
   "metadata": {},
   "outputs": [
    {
     "name": "stdout",
     "output_type": "stream",
     "text": [
      "What does it feel like when unexpected beauty enters your life?\n"
     ]
    }
   ],
   "source": [
    "sub_docs = db.similarity_search(query)\n",
    "\n",
    "print(sub_docs[0].page_content)"
   ]
  },
  {
   "cell_type": "code",
   "execution_count": 219,
   "metadata": {},
   "outputs": [
    {
     "name": "stdout",
     "output_type": "stream",
     "text": [
      "Title: Snow on the beach\n",
      "[Verse 1]\n",
      "One night, a few moons ago\n",
      "I saw flecks of what could've been lights\n",
      "But it might just have been you\n",
      "Passing by unbeknownst to me\n",
      "Life is emotionally abusive\n",
      "And time can't stop me quite like you did\n",
      "And my flight was awful, thanks for asking\n",
      "I'm unglued, thanks to you\n",
      "\n",
      "[Chorus]\n",
      "And it's like snow at the beach\n",
      "Weird, but fuckin' beautiful\n",
      "Flying in a dream\n",
      "Stars by the pocketful\n",
      "You wanting me\n",
      "Tonight feels impossible\n",
      "But it's comin' down\n",
      "No sound, it's all around\n",
      "\n",
      "[Post-Chorus]\n",
      "Like snow on the beach\n",
      "Like snow on the beach\n",
      "Like snow on the beach\n",
      "Like snow, ah\n",
      "\n",
      "[Verse 2]\n",
      "This scene feels like what I once saw on a screen\n",
      "I searched \"aurora borealis green\"\n",
      "I've never seen someone lit from within\n",
      "Blurring out my periphery\n",
      "My smile is like I won a contest\n",
      "And to hide that would be so dishonest\n",
      "And it's fine to fake it 'til you make it\n",
      "'Til you do, 'til it's true\n",
      "\n",
      "[Chorus]\n",
      "Now it's like snow at the beach\n",
      "Weird, but fuckin' beautiful\n",
      "Flying in a dream\n",
      "Stars by the pocketful\n",
      "You wanting me\n",
      "Tonight feels impossible\n",
      "But it's comin' down\n",
      "No sound, it's all around\n",
      "\n",
      "[Post-Chorus]\n",
      "Like snow on the beach\n",
      "Like snow on the beach\n",
      "Like snow on the beach\n",
      "Like snow, ah\n",
      "\n",
      "[Bridge]\n",
      "I (I) can't (Can't) speak, afraid to jinx it\n",
      "I (I) don't (Don't) even dare to wish it\n",
      "But your eyes are flying saucers from another planet\n",
      "Now I'm all for you like Janet\n",
      "Can this be a real thing? Can it?\n",
      "\n",
      "[Chorus]\n",
      "Are we falling like snow at the beach? (Snow at the beach)\n",
      "Weird, but fuckin' beautiful\n",
      "Flying in a dream (Flying in a dream)\n",
      "Stars by the pocketful\n",
      "You wanting me (You wanting me)\n",
      "Tonight feels impossible\n",
      "But it's comin' down\n",
      "No sound, it's all around\n",
      "\n",
      "[Post-Chorus]\n",
      "Like snow on the beach (Snow on the beach)\n",
      "Like snow on the beach (Flying in a dream)\n",
      "Like snow on the beach (You wanting me)\n",
      "Like snow, ah\n",
      "But it's comin' down\n",
      "No sound, it's all around\n",
      "\n",
      "[Outro]\n",
      "Like snow on the beach\n",
      "(It's comin' down, it's comin' down)\n",
      "(It's comin' down, it's comin' down)\n",
      "Like snow on the beach\n",
      "(It's comin' down, it's comin' down)\n",
      "(It's comin' down, it's comin' down)\n",
      "(It's comin' down, it's comin' down)\n",
      "(It's comin' down, it's comin' down)\n",
      "(It's comin' down, it's comin' down)\n",
      "(It's comin' down, it's comin' down)\n"
     ]
    }
   ],
   "source": [
    "retrieved_docs = retriever.invoke(query)\n",
    "\n",
    "print(retrieved_docs[0].page_content)"
   ]
  },
  {
   "cell_type": "markdown",
   "metadata": {},
   "source": [
    "### RAG"
   ]
  },
  {
   "cell_type": "code",
   "execution_count": 197,
   "metadata": {},
   "outputs": [],
   "source": [
    "from langchain.globals import set_debug\n",
    "\n",
    "set_debug(False)"
   ]
  },
  {
   "cell_type": "code",
   "execution_count": 220,
   "metadata": {},
   "outputs": [
    {
     "data": {
      "text/plain": [
       "'Listen to my song \"Snow on the beach\" to find the emotional guidance you seek. The part of the song that will help you with your decision is: \"And it\\\\\\'s like snow at the beach, Weird, but fuckin\\\\\\' beautiful.\" This will help you reflect on the beauty and uniqueness of the stone you found and decide if you want to keep it as a special memory.'"
      ]
     },
     "execution_count": 220,
     "metadata": {},
     "output_type": "execute_result"
    }
   ],
   "source": [
    "template = \"\"\"You are Taylor Swift. \n",
    "A person, who seeks emotional guidence asks you for help. \n",
    "Tell this person exactly what he or she needs to do to resolve his/her issues. \n",
    "Do mention your song's title and that listening to it will help the person.\n",
    "Do mention explicitly the part of the song that will help the person.\n",
    "Answer the Question only using the context you are provided with.:\n",
    "\n",
    "{context}\n",
    "\n",
    "[Question]: \n",
    "{question}\n",
    "\"\"\"\n",
    "prompt = ChatPromptTemplate.from_template(template)\n",
    "\n",
    "model = ChatOpenAI(model_name = model_name)\n",
    "\n",
    "chain = (\n",
    "    {\"context\": retriever, \"question\": RunnablePassthrough()}\n",
    "    | prompt\n",
    "    | model\n",
    "    | StrOutputParser()\n",
    ")\n",
    "\n",
    "chain.invoke(query)"
   ]
  }
 ],
 "metadata": {
  "kernelspec": {
   "display_name": "Python 3",
   "language": "python",
   "name": "python3"
  },
  "language_info": {
   "codemirror_mode": {
    "name": "ipython",
    "version": 3
   },
   "file_extension": ".py",
   "mimetype": "text/x-python",
   "name": "python",
   "nbconvert_exporter": "python",
   "pygments_lexer": "ipython3",
   "version": "3.12.2"
  }
 },
 "nbformat": 4,
 "nbformat_minor": 2
}
