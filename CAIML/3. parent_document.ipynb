{
 "cells": [
  {
   "cell_type": "markdown",
   "metadata": {},
   "source": [
    "# Parent Document Retrieval (Small to Big Retrieval)"
   ]
  },
  {
   "cell_type": "markdown",
   "metadata": {},
   "source": [
    "### Load and Split Document"
   ]
  },
  {
   "cell_type": "code",
   "execution_count": 32,
   "metadata": {},
   "outputs": [],
   "source": [
    "from langchain_community.document_loaders import TextLoader\n",
    "from langchain_text_splitters import RecursiveCharacterTextSplitter\n",
    "\n",
    "raw_documents = TextLoader('./data/tesla.txt', encoding='utf-8').load()\n",
    "child_splitter = RecursiveCharacterTextSplitter(chunk_size=200)\n",
    "parent_splitter = RecursiveCharacterTextSplitter(chunk_size=2000)"
   ]
  },
  {
   "cell_type": "markdown",
   "metadata": {},
   "source": [
    "### Store Documents in Vector Database"
   ]
  },
  {
   "cell_type": "code",
   "execution_count": 33,
   "metadata": {},
   "outputs": [],
   "source": [
    "from langchain_openai import OpenAIEmbeddings\n",
    "from langchain_community.vectorstores import Chroma\n",
    "from langchain.storage import InMemoryStore\n",
    "\n",
    "\n",
    "embedding_model = OpenAIEmbeddings() # or something else\n",
    "\n",
    "db = Chroma(embedding_function=embedding_model, persist_directory=\"./chroma_db\", collection_name=\"parent_doc_tesla\")\n",
    "\n",
    "parent_store = InMemoryStore()"
   ]
  },
  {
   "cell_type": "markdown",
   "metadata": {},
   "source": [
    "## Setup retriever"
   ]
  },
  {
   "cell_type": "code",
   "execution_count": 34,
   "metadata": {},
   "outputs": [],
   "source": [
    "from langchain.retrievers import ParentDocumentRetriever\n",
    "\n",
    "full_retriever = ParentDocumentRetriever(\n",
    "    vectorstore=db,\n",
    "    docstore=parent_store,\n",
    "    child_splitter=child_splitter,\n",
    "    parent_splitter=parent_splitter\n",
    ")\n",
    "\n",
    "full_retriever.add_documents(raw_documents)"
   ]
  },
  {
   "cell_type": "code",
   "execution_count": 35,
   "metadata": {},
   "outputs": [],
   "source": [
    "query = \"What was the motivation behind Tesla to not mary?\""
   ]
  },
  {
   "cell_type": "markdown",
   "metadata": {},
   "source": [
    "### Query Vector Database"
   ]
  },
  {
   "cell_type": "code",
   "execution_count": 24,
   "metadata": {},
   "outputs": [
    {
     "name": "stdout",
     "output_type": "stream",
     "text": [
      "by not marrying, he had made too great a sacrifice to his work, needed] Tesla chose to never pursue or engage in any known relationships, instead finding all the stimulation he needed in his work.\n"
     ]
    }
   ],
   "source": [
    "sub_docs = db.similarity_search(query)\n",
    "\n",
    "print(sub_docs[0].page_content)"
   ]
  },
  {
   "cell_type": "markdown",
   "metadata": {},
   "source": [
    "### Query Retriever"
   ]
  },
  {
   "cell_type": "code",
   "execution_count": 25,
   "metadata": {},
   "outputs": [
    {
     "name": "stdout",
     "output_type": "stream",
     "text": [
      "Relationships\n",
      "Tesla was a lifelong bachelor, who had once explained that his chastity was very helpful to his scientific abilities. He once said in earlier years that he felt he could never be worthy enough for a woman, considering women superior in every way. His opinion had started to sway in later years when he felt that women were trying to outdo men and make themselves more dominant. This \"new woman\" was met with much indignation from Tesla, who felt that women were losing their femininity by trying to be in power. In an interview with the Galveston Daily News on 10 August 1924 he stated, \"In place of the soft-voiced, a gentlewoman of my reverent worship, has come the woman who thinks that her chief success in life lies in making herself as much as possible like man—in dress, voice and actions, in sports and achievements of every kind ... The tendency of women to push aside man, supplanting the old spirit of cooperation with him in all the affairs of life, is very disappointing to me.\"tion needed] Although he told a reporter in later years that he sometimes felt that by not marrying, he had made too great a sacrifice to his work, needed] Tesla chose to never pursue or engage in any known relationships, instead finding all the stimulation he needed in his work.\n",
      "Tesla was asocial and prone to seclude himself with his work. However, when he did engage in social life, many people spoke very positively and admiringly of Tesla. Robert Underwood Johnson described him as attaining a \"distinguished sweetness, sincerity, modesty, refinement, generosity, and force\". needed] His secretary, Dorothy Skerrit, wrote: \"his genial smile and nobility of bearing always denoted the gentlemanly characteristics that were so ingrained in his soul\". Tesla's friend, Julian Hawthorne, wrote, \"seldom did one meet a scientist or engineer who was also a poet, a philosopher, an appreciator of fine music, a linguist, and a connoisseur of food and drink\".\n"
     ]
    }
   ],
   "source": [
    "retrieved_docs = full_retriever.get_relevant_documents(query)\n",
    "\n",
    "print(retrieved_docs[0].page_content)"
   ]
  },
  {
   "cell_type": "markdown",
   "metadata": {},
   "source": [
    "## RAG"
   ]
  },
  {
   "cell_type": "code",
   "execution_count": 36,
   "metadata": {},
   "outputs": [],
   "source": [
    "from langchain.prompts import ChatPromptTemplate\n",
    "from langchain_openai import ChatOpenAI\n",
    "from langchain.schema.runnable import RunnablePassthrough\n",
    "from langchain.schema.output_parser import StrOutputParser\n",
    "\n",
    "template = \"\"\"Answer the following question based only on the following context:\n",
    "{context}\n",
    "\n",
    "Question: {question}\n",
    "\"\"\"\n",
    "prompt = ChatPromptTemplate.from_template(template)\n",
    "\n",
    "model_name = 'gpt-3.5-turbo-0125'\n",
    "model = ChatOpenAI(model_name = model_name)"
   ]
  },
  {
   "cell_type": "markdown",
   "metadata": {},
   "source": [
    "### Simple RAG from Child Document"
   ]
  },
  {
   "cell_type": "code",
   "execution_count": 30,
   "metadata": {},
   "outputs": [
    {
     "data": {
      "text/plain": [
       "'The motivation behind Tesla not marrying was that he felt he had made too great a sacrifice to his work and found all the stimulation he needed in his work.'"
      ]
     },
     "execution_count": 30,
     "metadata": {},
     "output_type": "execute_result"
    }
   ],
   "source": [
    "only_child_retriever = db.as_retriever()\n",
    "\n",
    "child_chain = (\n",
    "    {\"context\": only_child_retriever, \"question\": RunnablePassthrough()}\n",
    "    | prompt\n",
    "    | model\n",
    "    | StrOutputParser()\n",
    ")\n",
    "\n",
    "child_chain.invoke(query)"
   ]
  },
  {
   "cell_type": "markdown",
   "metadata": {},
   "source": [
    "## Parent Retrieval RAG"
   ]
  },
  {
   "cell_type": "code",
   "execution_count": 37,
   "metadata": {},
   "outputs": [
    {
     "data": {
      "text/plain": [
       "\"Tesla's motivation to not marry was his belief that his chastity was helpful to his scientific abilities, as well as his feelings of inadequacy and admiration for women. He also felt that women were losing their femininity by trying to be dominant and push aside men in society. Tesla ultimately chose to focus on his work and found all the stimulation he needed in his scientific pursuits.\""
      ]
     },
     "execution_count": 37,
     "metadata": {},
     "output_type": "execute_result"
    }
   ],
   "source": [
    "full_chain = (\n",
    "    {\"context\": full_retriever, \"question\": RunnablePassthrough()}\n",
    "    | prompt\n",
    "    | model\n",
    "    | StrOutputParser()\n",
    ")\n",
    "\n",
    "full_chain.invoke(query)"
   ]
  }
 ],
 "metadata": {
  "kernelspec": {
   "display_name": "Python 3",
   "language": "python",
   "name": "python3"
  },
  "language_info": {
   "codemirror_mode": {
    "name": "ipython",
    "version": 3
   },
   "file_extension": ".py",
   "mimetype": "text/x-python",
   "name": "python",
   "nbconvert_exporter": "python",
   "pygments_lexer": "ipython3",
   "version": "3.12.2"
  }
 },
 "nbformat": 4,
 "nbformat_minor": 2
}
