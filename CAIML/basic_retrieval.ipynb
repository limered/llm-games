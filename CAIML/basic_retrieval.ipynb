{
 "cells": [
  {
   "cell_type": "code",
   "execution_count": 31,
   "metadata": {},
   "outputs": [
    {
     "name": "stdout",
     "output_type": "stream",
     "text": [
      "Once upon a time, in a land far, far away named California, where the sun nearly always shines and dreams are big, there lived two very curious friends named Timmy and Martina. Timmy was a tinkerer. He loved playing with old radios and computers, taking them apart and putting them back together. Martina, on the other hand, was a dreamer. She loved to paint and imagined stories of how the world could be made better through technology.\n",
      "\n",
      "One day, as they sat in the garden under a large apple tree, a apple suddenly fell right onto Timmy's head. \"Ouch!\" he exclaimed, but then they started to laugh. At that moment, Martina had a brilliant idea. \"What if we build our own computer, one that's so simple everyone can use it? One for kids, their parents, and even grandparents?\"\n"
     ]
    }
   ],
   "source": [
    "from langchain_community.document_loaders import TextLoader\n",
    "from langchain_community.embeddings import LlamafileEmbeddings\n",
    "from langchain_text_splitters import CharacterTextSplitter\n",
    "from langchain_community.vectorstores import Chroma\n",
    "\n",
    "raw_documents = TextLoader('./apple.txt', encoding='utf-8').load()\n",
    "text_splitter = CharacterTextSplitter(chunk_size=1000, chunk_overlap=200)\n",
    "documents = text_splitter.split_documents(raw_documents)\n",
    "db = Chroma.from_documents(documents, LlamafileEmbeddings(), persist_directory=\"./chroma_db\")\n",
    "\n",
    "query = \"What have they done in the garage?\"\n",
    "docs = db.similarity_search(query)\n",
    "print(docs[0].page_content)\n"
   ]
  }
 ],
 "metadata": {
  "kernelspec": {
   "display_name": "Python 3",
   "language": "python",
   "name": "python3"
  },
  "language_info": {
   "codemirror_mode": {
    "name": "ipython",
    "version": 3
   },
   "file_extension": ".py",
   "mimetype": "text/x-python",
   "name": "python",
   "nbconvert_exporter": "python",
   "pygments_lexer": "ipython3",
   "version": "3.12.2"
  }
 },
 "nbformat": 4,
 "nbformat_minor": 2
}
