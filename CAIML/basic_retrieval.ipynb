{
 "cells": [
  {
   "cell_type": "markdown",
   "metadata": {},
   "source": [
    "# Basic RAG Pipeline"
   ]
  },
  {
   "cell_type": "markdown",
   "metadata": {},
   "source": [
    "### Load and Split Document"
   ]
  },
  {
   "cell_type": "code",
   "execution_count": 1,
   "metadata": {},
   "outputs": [],
   "source": [
    "from langchain_community.document_loaders import TextLoader\n",
    "\n",
    "from langchain_text_splitters import CharacterTextSplitter\n",
    "\n",
    "raw_documents = TextLoader('./apple.txt', encoding='utf-8').load()\n",
    "text_splitter = CharacterTextSplitter(chunk_size=500, chunk_overlap=0)\n",
    "documents = text_splitter.split_documents(raw_documents)"
   ]
  },
  {
   "cell_type": "markdown",
   "metadata": {},
   "source": [
    "### Store Documents in Vector Database"
   ]
  },
  {
   "cell_type": "code",
   "execution_count": 2,
   "metadata": {},
   "outputs": [],
   "source": [
    "from langchain_community.embeddings import LlamafileEmbeddings\n",
    "from langchain_community.vectorstores import Qdrant\n",
    "\n",
    "embedding_model = LlamafileEmbeddings()\n",
    "\n",
    "db = Qdrant.from_documents(documents, embedding_model, path=\"./local_qdrant\", collection_name=\"apple_basic\")"
   ]
  },
  {
   "cell_type": "markdown",
   "metadata": {},
   "source": [
    "### Query Vector Database"
   ]
  },
  {
   "cell_type": "code",
   "execution_count": 3,
   "metadata": {},
   "outputs": [
    {
     "name": "stdout",
     "output_type": "stream",
     "text": [
      "Score: 0.5464271028901778\n",
      "Text:\n",
      "With every \"Apple\" computer sold, their small company grew. They moved from the garage into a proper office and hired friends to help them. However, Timmy and Martina always remained true to their original goal: to create technology that brings people together and fosters learning.\n",
      "\n",
      "\n",
      "Score: 0.5313965671438585\n",
      "Text:\n",
      "And so, dear children, that's how the story of Apple began, with a small dream under an apple tree that changed the world. Timmy and Martina showed us that with curiosity, hard work, and a big heart, anything is possible.\n",
      "\n",
      "\n",
      "Score: 0.49861041680070106\n",
      "Text:\n",
      "They started working in their garage, with old parts and plenty of creativity. Timmy took care of the computer's insides – ensuring it was easy to use yet powerful. Martina, with her sense of aesthetics, designed the computer's exterior to make it friendly and inviting.\n",
      "\n",
      "\n",
      "Score: 0.46975307798058596\n",
      "Text:\n",
      "Once upon a time, in a land far, far away named California, where the sun nearly always shines and dreams are big, there lived two very curious friends named Timmy and Martina. Timmy was a tinkerer. He loved playing with old radios and computers, taking them apart and putting them back together. Martina, on the other hand, was a dreamer. She loved to paint and imagined stories of how the world could be made better through technology.\n",
      "\n",
      "\n"
     ]
    }
   ],
   "source": [
    "# query = \"In what ways did Martina's sense of aesthetics influence the design of the computer's exterior?\"\n",
    "query = \"How did Timmy and Martina manage to make the computer both easy to use and powerful with just old parts?\"\n",
    "\n",
    "docs = db.similarity_search_with_score(query)\n",
    "\n",
    "only_text_results = [result[0].page_content for result in docs]\n",
    "\n",
    "for result in docs:\n",
    "    print(f'Score: {result[1]}')\n",
    "    print(f'Text:\\n{result[0].page_content}\\n\\n')"
   ]
  },
  {
   "cell_type": "markdown",
   "metadata": {},
   "source": [
    "### RAG"
   ]
  },
  {
   "cell_type": "code",
   "execution_count": 4,
   "metadata": {},
   "outputs": [
    {
     "data": {
      "text/plain": [
       "\"Timmy took care of the computer's insides to ensure it was easy to use yet powerful, while Martina designed the computer's exterior to make it friendly and inviting.\""
      ]
     },
     "execution_count": 4,
     "metadata": {},
     "output_type": "execute_result"
    }
   ],
   "source": [
    "from langchain.prompts import ChatPromptTemplate\n",
    "from langchain_openai import ChatOpenAI\n",
    "from langchain.schema.runnable import RunnablePassthrough\n",
    "from langchain.schema.output_parser import StrOutputParser\n",
    "\n",
    "retriever = db.as_retriever()\n",
    "\n",
    "template = \"\"\"Answer the following question based only on the following context:\n",
    "{context}\n",
    "\n",
    "Question: {question}\n",
    "\"\"\"\n",
    "prompt = ChatPromptTemplate.from_template(template)\n",
    "\n",
    "model_name = 'gpt-3.5-turbo-0125'\n",
    "model = ChatOpenAI(model_name = model_name)\n",
    "\n",
    "chain = (\n",
    "    {\"context\": retriever, \"question\": RunnablePassthrough()}\n",
    "    | prompt\n",
    "    | model\n",
    "    | StrOutputParser()\n",
    ")\n",
    "\n",
    "chain.invoke(query)"
   ]
  }
 ],
 "metadata": {
  "kernelspec": {
   "display_name": "Python 3",
   "language": "python",
   "name": "python3"
  },
  "language_info": {
   "codemirror_mode": {
    "name": "ipython",
    "version": 3
   },
   "file_extension": ".py",
   "mimetype": "text/x-python",
   "name": "python",
   "nbconvert_exporter": "python",
   "pygments_lexer": "ipython3",
   "version": "3.12.2"
  }
 },
 "nbformat": 4,
 "nbformat_minor": 2
}
