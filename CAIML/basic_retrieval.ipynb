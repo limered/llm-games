{
 "cells": [
  {
   "cell_type": "code",
   "execution_count": 30,
   "metadata": {},
   "outputs": [
    {
     "name": "stdout",
     "output_type": "stream",
     "text": [
      "Timmy's eyes sparkled. \"That's an excellent idea! But we need a name... something simple, yet powerful.\" They looked up at the apple tree above them. \"How about 'Apple'?\" Martina suggested. \"An apple stands for curiosity and knowledge. Exactly what we want our computers to represent.\" Timmy nodded enthusiastically.\n",
      "\n",
      "They started working in their garage, with old parts and plenty of creativity. Timmy took care of the computer's insides – ensuring it was easy to use yet powerful. Martina, with her sense of aesthetics, designed the computer's exterior to make it friendly and inviting.\n",
      "\n",
      "Day and night, they worked, supported by their friends and family who believed in their vision. Finally, after many months of hard work, the first \"Apple\" computer was ready. It was small, affordable, and so simple that truly anyone could use it.\n"
     ]
    }
   ],
   "source": [
    "from langchain_community.document_loaders import TextLoader\n",
    "from langchain_community.embeddings import LlamafileEmbeddings\n",
    "from langchain_text_splitters import CharacterTextSplitter\n",
    "from langchain_community.vectorstores import Chroma\n",
    "\n",
    "raw_documents = TextLoader('./apple.txt', encoding='utf-8').load()\n",
    "text_splitter = CharacterTextSplitter(chunk_size=1000, chunk_overlap=200)\n",
    "documents = text_splitter.split_documents(raw_documents)\n",
    "db = Chroma.from_documents(documents, LlamafileEmbeddings(), persist_directory=\"./chroma_db\")\n",
    "\n",
    "query = \"What have they done in the garage?\"\n",
    "docs = db.similarity_search(query)\n",
    "print(docs[0].page_content)\n"
   ]
  }
 ],
 "metadata": {
  "kernelspec": {
   "display_name": "Python 3",
   "language": "python",
   "name": "python3"
  },
  "language_info": {
   "codemirror_mode": {
    "name": "ipython",
    "version": 3
   },
   "file_extension": ".py",
   "mimetype": "text/x-python",
   "name": "python",
   "nbconvert_exporter": "python",
   "pygments_lexer": "ipython3",
   "version": "3.12.2"
  }
 },
 "nbformat": 4,
 "nbformat_minor": 2
}
